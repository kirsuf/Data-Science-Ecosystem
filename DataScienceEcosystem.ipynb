{
 "cells": [
  {
   "cell_type": "markdown",
   "id": "d8fb5660-cb8a-4492-8ca2-16f50fd16fc8",
   "metadata": {},
   "source": [
    "# Data Science Tools and Ecosystem"
   ]
  },
  {
   "cell_type": "markdown",
   "id": "661c9b89-ebd1-42c6-bfff-dc15d535bb26",
   "metadata": {},
   "source": [
    "In this notebook, Data Science Tools and Ecosystems are summarised"
   ]
  },
  {
   "cell_type": "markdown",
   "id": "edb85077-a2ab-4e0b-a1a8-87d9d2900bf6",
   "metadata": {},
   "source": [
    "**Objectives:**\n",
    "- List Common Languages for Data Science\n",
    "- List Common Libraries for Data Science\n",
    "- Tabulate Data Science Tools\n",
    "- Display examples of arithmetic expressions "
   ]
  },
  {
   "cell_type": "markdown",
   "id": "99f0cdb7-29d6-456e-8206-7ac35c3bada9",
   "metadata": {},
   "source": [
    "Some of the common languages that Data Scientists use are:\n",
    "1. Python\n",
    "2. R\n",
    "3. SQL\n",
    "4. Java\n",
    "5. JavaScript\n",
    "6. Scala"
   ]
  },
  {
   "cell_type": "markdown",
   "id": "d5c02b03-6103-47c6-9263-cdaab703b962",
   "metadata": {},
   "source": [
    "Some of the commonly used libraries used by Data Scientists are:\n",
    "1. Apache Spark\n",
    "2. TensorFlow\n",
    "3. Pandas\n",
    "4. Scikit-learn"
   ]
  },
  {
   "cell_type": "markdown",
   "id": "406f2132-8c4a-4360-be1c-5de9637ea07f",
   "metadata": {},
   "source": [
    "|Data Science Tools|\n",
    "|------------------|\n",
    "|Jupyter Notebook|\n",
    "| Spyder |\n",
    "| Google CoLab |"
   ]
  },
  {
   "cell_type": "markdown",
   "id": "28ab307f-00b3-4229-8c70-66ef64d14451",
   "metadata": {},
   "source": [
    "### Below are a few examples of evaluating arithmetic examples in Python"
   ]
  },
  {
   "cell_type": "code",
   "execution_count": 1,
   "id": "812b8cc9-e920-4095-980b-fafd902f3cf7",
   "metadata": {},
   "outputs": [
    {
     "data": {
      "text/plain": [
       "17"
      ]
     },
     "execution_count": 1,
     "metadata": {},
     "output_type": "execute_result"
    }
   ],
   "source": [
    "#this is a simple arithmetic expression to multipy then add integers\n",
    "(3*4)+5"
   ]
  },
  {
   "cell_type": "code",
   "execution_count": 2,
   "id": "c4b272ae-98a0-4d2a-b76c-7f96c0831241",
   "metadata": {},
   "outputs": [
    {
     "data": {
      "text/plain": [
       "3.3333333333333335"
      ]
     },
     "execution_count": 2,
     "metadata": {},
     "output_type": "execute_result"
    }
   ],
   "source": [
    "#this will convert 200 minutues into hours by dividing by 60\n",
    "200/60"
   ]
  },
  {
   "cell_type": "markdown",
   "id": "289d9524-416f-4b8b-8f88-512a5741e727",
   "metadata": {},
   "source": [
    "## Author\n",
    "Kirstin Ferrie"
   ]
  },
  {
   "cell_type": "code",
   "execution_count": null,
   "id": "16215c0f-738e-47dc-8558-068d2076ef6d",
   "metadata": {},
   "outputs": [],
   "source": []
  }
 ],
 "metadata": {
  "kernelspec": {
   "display_name": "Python 3 (ipykernel)",
   "language": "python",
   "name": "python3"
  },
  "language_info": {
   "codemirror_mode": {
    "name": "ipython",
    "version": 3
   },
   "file_extension": ".py",
   "mimetype": "text/x-python",
   "name": "python",
   "nbconvert_exporter": "python",
   "pygments_lexer": "ipython3",
   "version": "3.11.9"
  }
 },
 "nbformat": 4,
 "nbformat_minor": 5
}
